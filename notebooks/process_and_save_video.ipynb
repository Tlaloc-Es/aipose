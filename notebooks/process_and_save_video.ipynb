{
 "cells": [
  {
   "cell_type": "code",
   "execution_count": null,
   "metadata": {},
   "outputs": [],
   "source": [
    "from typing import List\n",
    "from numpy import ndarray\n",
    "\n",
    "import cv2\n",
    "\n",
    "import numpy as np\n",
    "\n",
    "from aipose.plot import plot\n",
    "from aipose.models.yolov7 import YoloV7PoseKeypoints\n",
    "from aipose.stream import process_video\n",
    "from aipose.frame import FrameYoloV7"
   ]
  },
  {
   "cell_type": "code",
   "execution_count": null,
   "metadata": {},
   "outputs": [],
   "source": [
    "class CustomYoloV7PoseKeypointsFrameProcessor(FrameYoloV7):\n",
    "    def __init__(self, path:str):\n",
    "        super().__init__()\n",
    "        self.resolution = (640,480)\n",
    "        fourcc = cv2.VideoWriter_fourcc('m', 'p', '4', 'v')\n",
    "        self.out = cv2.VideoWriter(path, fourcc, 25, self.resolution)\n",
    "\n",
    "    def on_predict(\n",
    "        self, frame: ndarray, prediction: List[YoloV7PoseKeypoints], image_tensor: ndarray\n",
    "    ) -> None | ndarray:\n",
    "        frame = self._plot(prediction, image_tensor)\n",
    "        frame = cv2.cvtColor(frame, cv2.COLOR_BGR2RGB)\n",
    "        frame = cv2.resize(frame, dsize=self.resolution, interpolation=cv2.INTER_CUBIC)\n",
    "        self.out.write(frame)\n",
    "        return frame\n",
    "\n",
    "    def _plot(self, prediction: List[YoloV7PoseKeypoints], image_tensor: ndarray) -> ndarray:\n",
    "        frame = plot(\n",
    "            image_tensor,\n",
    "            np.array([value.get_raw_keypoint() for value in prediction]),\n",
    "            plot_image=False,\n",
    "            return_img=True,\n",
    "        )\n",
    "        return frame\n",
    "\n",
    "    def on_ends_stream(self) -> None:\n",
    "        self.out.release()\n",
    "\n",
    "\n",
    "custom_keypoints_frame_processor = CustomYoloV7PoseKeypointsFrameProcessor('./../video_processed.mp4')"
   ]
  },
  {
   "cell_type": "code",
   "execution_count": null,
   "metadata": {},
   "outputs": [],
   "source": [
    "process_video(custom_keypoints_frame_processor, './../video.mp4')"
   ]
  }
 ],
 "metadata": {
  "kernelspec": {
   "display_name": "Python 3.10.7 ('.venv': pipenv)",
   "language": "python",
   "name": "python3"
  },
  "language_info": {
   "codemirror_mode": {
    "name": "ipython",
    "version": 3
   },
   "file_extension": ".py",
   "mimetype": "text/x-python",
   "name": "python",
   "nbconvert_exporter": "python",
   "pygments_lexer": "ipython3",
   "version": "3.10.7"
  },
  "orig_nbformat": 4,
  "vscode": {
   "interpreter": {
    "hash": "9e906b8bce670891410964d9b40cd49b717f5bb944c17329acc0e9f63bf95cb2"
   }
  }
 },
 "nbformat": 4,
 "nbformat_minor": 2
}
