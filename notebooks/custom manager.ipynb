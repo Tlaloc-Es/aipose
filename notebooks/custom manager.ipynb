{
 "cells": [
  {
   "cell_type": "code",
   "execution_count": null,
   "metadata": {},
   "outputs": [],
   "source": [
    "import cv2\n",
    "import numpy as np\n",
    "from numpy import ndarray\n",
    "from typing import Tuple\n",
    "\n",
    "from aipose.webcam import process_webcam\n",
    "from aipose.webcam.frame_managers import FrameManager\n",
    "from aipose.plot import plot"
   ]
  },
  {
   "cell_type": "code",
   "execution_count": null,
   "metadata": {},
   "outputs": [],
   "source": [
    "class CustomManager(FrameManager):\n",
    "    def __init__(self, blur:Tuple[int]):\n",
    "        self.blur = blur\n",
    "\n",
    "    def on_frame(self, frame: ndarray) -> ndarray:\n",
    "        frame = cv2.blur(frame, self.blur)\n",
    "        return frame"
   ]
  },
  {
   "cell_type": "code",
   "execution_count": null,
   "metadata": {},
   "outputs": [],
   "source": [
    "process_webcam(CustomManager((20,20)))"
   ]
  }
 ],
 "metadata": {
  "kernelspec": {
   "display_name": "Python 3.10.7 ('.venv': pipenv)",
   "language": "python",
   "name": "python3"
  },
  "language_info": {
   "codemirror_mode": {
    "name": "ipython",
    "version": 3
   },
   "file_extension": ".py",
   "mimetype": "text/x-python",
   "name": "python",
   "nbconvert_exporter": "python",
   "pygments_lexer": "ipython3",
   "version": "3.10.7"
  },
  "orig_nbformat": 4,
  "vscode": {
   "interpreter": {
    "hash": "9e906b8bce670891410964d9b40cd49b717f5bb944c17329acc0e9f63bf95cb2"
   }
  }
 },
 "nbformat": 4,
 "nbformat_minor": 2
}
