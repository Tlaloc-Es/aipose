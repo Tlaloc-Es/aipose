{
 "cells": [
  {
   "cell_type": "code",
   "execution_count": null,
   "metadata": {},
   "outputs": [],
   "source": [
    "import cv2\n",
    "from numpy import ndarray\n",
    "\n",
    "from aipose.frame import FrameManagerBase\n",
    "from aipose.stream import process_webcam"
   ]
  },
  {
   "cell_type": "code",
   "execution_count": null,
   "metadata": {},
   "outputs": [],
   "source": [
    "class CustomManager(FrameManagerBase):\n",
    "    def __init__(self, blur: tuple[int]):\n",
    "        self.blur = blur\n",
    "\n",
    "    def frame_received(self, frame: ndarray) -> ndarray:\n",
    "        frame = cv2.blur(frame, self.blur)\n",
    "        return frame"
   ]
  },
  {
   "cell_type": "code",
   "execution_count": null,
   "metadata": {},
   "outputs": [],
   "source": [
    "process_webcam(CustomManager((20, 20)))"
   ]
  }
 ],
 "metadata": {
  "kernelspec": {
   "display_name": ".venv",
   "language": "python",
   "name": "python3"
  },
  "language_info": {
   "codemirror_mode": {
    "name": "ipython",
    "version": 3
   },
   "file_extension": ".py",
   "mimetype": "text/x-python",
   "name": "python",
   "nbconvert_exporter": "python",
   "pygments_lexer": "ipython3",
   "version": "3.10.4"
  },
  "orig_nbformat": 4
 },
 "nbformat": 4,
 "nbformat_minor": 2
}
