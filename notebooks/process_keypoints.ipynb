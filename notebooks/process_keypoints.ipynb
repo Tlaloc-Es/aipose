{
 "cells": [
  {
   "cell_type": "code",
   "execution_count": null,
   "metadata": {},
   "outputs": [],
   "source": [
    "from typing import List\n",
    "from numpy import ndarray\n",
    "\n",
    "from aipose.models.yolov7.domain import YoloV7PoseKeypoints\n",
    "from aipose.models.yolov7.types import YoloV7PoseJoints\n",
    "from aipose.stream import process_webcam\n",
    "from aipose.frame import FrameYoloV7"
   ]
  },
  {
   "cell_type": "code",
   "execution_count": null,
   "metadata": {},
   "outputs": [],
   "source": [
    "class CustomYoloV7PoseKeypointsFrameProcessor(FrameYoloV7):\n",
    "    def on_predict(\n",
    "        self, frame: ndarray, prediction: List[YoloV7PoseKeypoints], image_tensor: ndarray\n",
    "    ) -> None | ndarray:\n",
    "        for keypoint in prediction:\n",
    "\n",
    "            right_wrist = keypoint.get_keypoint(YoloV7PoseJoints.RIGHT_WRIST)\n",
    "            left_wrist = keypoint.get_keypoint(YoloV7PoseJoints.LEFT_WRIST)\n",
    "            nose = keypoint.get_keypoint(YoloV7PoseJoints.NOSE)\n",
    "\n",
    "            are_hands_raised = (\n",
    "                right_wrist.y < nose.y\n",
    "                and left_wrist.y < nose.y\n",
    "                and right_wrist.conf > 0.50\n",
    "                and left_wrist.conf > 0.50\n",
    "            )\n",
    "\n",
    "            if are_hands_raised:\n",
    "                self.stop = True\n",
    "\n",
    "custom_keypoints_frame_processor = CustomYoloV7PoseKeypointsFrameProcessor()"
   ]
  },
  {
   "cell_type": "code",
   "execution_count": null,
   "metadata": {},
   "outputs": [],
   "source": [
    "process_webcam(custom_keypoints_frame_processor)"
   ]
  }
 ],
 "metadata": {
  "kernelspec": {
   "display_name": "Python 3.10.7 ('.venv': pipenv)",
   "language": "python",
   "name": "python3"
  },
  "language_info": {
   "codemirror_mode": {
    "name": "ipython",
    "version": 3
   },
   "file_extension": ".py",
   "mimetype": "text/x-python",
   "name": "python",
   "nbconvert_exporter": "python",
   "pygments_lexer": "ipython3",
   "version": "3.10.4"
  },
  "orig_nbformat": 4,
  "vscode": {
   "interpreter": {
    "hash": "9e906b8bce670891410964d9b40cd49b717f5bb944c17329acc0e9f63bf95cb2"
   }
  }
 },
 "nbformat": 4,
 "nbformat_minor": 2
}
