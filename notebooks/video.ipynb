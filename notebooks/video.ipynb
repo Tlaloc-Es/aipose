{
 "cells": [
  {
   "cell_type": "code",
   "execution_count": 10,
   "metadata": {},
   "outputs": [],
   "source": [
    "from aipose.model import YoloV7Pose\n",
    "from aipose.video import process_video\n",
    "from aipose.frame import FramePlot"
   ]
  },
  {
   "cell_type": "code",
   "execution_count": 12,
   "metadata": {},
   "outputs": [
    {
     "name": "stderr",
     "output_type": "stream",
     "text": [
      "Using cache found in /home/user/.cache/torch/hub/WongKinYiu_yolov7_main\n"
     ]
    },
    {
     "ename": "AttributeError",
     "evalue": "'NoneType' object has no attribute 'shape'",
     "output_type": "error",
     "traceback": [
      "\u001b[0;31m---------------------------------------------------------------------------\u001b[0m",
      "\u001b[0;31mAttributeError\u001b[0m                            Traceback (most recent call last)",
      "Cell \u001b[0;32mIn[12], line 3\u001b[0m\n\u001b[1;32m      1\u001b[0m model \u001b[39m=\u001b[39m YoloV7Pose()\n\u001b[1;32m      2\u001b[0m frame_plot \u001b[39m=\u001b[39m FramePlot(model)\n\u001b[0;32m----> 3\u001b[0m process_video(\u001b[39m'\u001b[39;49m\u001b[39m../video.mp4\u001b[39;49m\u001b[39m'\u001b[39;49m, frame_plot)\n",
      "File \u001b[0;32m~/USB/github/AprendeComputacion/Proyectos/Yolo-Pose/aipose/video/__init__.py:14\u001b[0m, in \u001b[0;36mprocess_video\u001b[0;34m(path, frame_manager)\u001b[0m\n",
      "File \u001b[0;32m~/USB/github/AprendeComputacion/Proyectos/Yolo-Pose/aipose/frame/frame_plot.py:17\u001b[0m, in \u001b[0;36mFramePlot.on_frame\u001b[0;34m(self, frame)\u001b[0m\n\u001b[1;32m     16\u001b[0m \u001b[39mdef\u001b[39;00m \u001b[39mon_frame\u001b[39m(\u001b[39mself\u001b[39m, frame: ndarray) \u001b[39m-\u001b[39m\u001b[39m>\u001b[39m ndarray:\n\u001b[0;32m---> 17\u001b[0m     prediction, image_tensor \u001b[39m=\u001b[39m \u001b[39mself\u001b[39;49m\u001b[39m.\u001b[39;49mmodel(frame)\n\u001b[1;32m     18\u001b[0m     frame \u001b[39m=\u001b[39m \u001b[39mself\u001b[39m\u001b[39m.\u001b[39m_plot(prediction, image_tensor)\n\u001b[1;32m     19\u001b[0m     frame \u001b[39m=\u001b[39m cv2\u001b[39m.\u001b[39mcvtColor(frame, cv2\u001b[39m.\u001b[39mCOLOR_BGR2RGB)\n",
      "File \u001b[0;32m~/USB/github/AprendeComputacion/Proyectos/Yolo-Pose/aipose/model.py:160\u001b[0m, in \u001b[0;36mYoloV7Pose.__call__\u001b[0;34m(self, image)\u001b[0m\n\u001b[1;32m    158\u001b[0m \u001b[39mdef\u001b[39;00m \u001b[39m__call__\u001b[39m(\u001b[39mself\u001b[39m, image: ndarray) \u001b[39m-\u001b[39m\u001b[39m>\u001b[39m Tuple[List[Keypoints], ndarray]:\n\u001b[1;32m    159\u001b[0m     \u001b[39m# Resize and pad image\u001b[39;00m\n\u001b[0;32m--> 160\u001b[0m     image \u001b[39m=\u001b[39m letterbox(image, \u001b[39m960\u001b[39;49m, stride\u001b[39m=\u001b[39;49m\u001b[39m64\u001b[39;49m, auto\u001b[39m=\u001b[39;49m\u001b[39mTrue\u001b[39;49;00m)[\u001b[39m0\u001b[39m]  \u001b[39m# shape: (567, 960, 3)\u001b[39;00m\n\u001b[1;32m    161\u001b[0m     \u001b[39m# Apply transforms\u001b[39;00m\n\u001b[1;32m    162\u001b[0m     image \u001b[39m=\u001b[39m transforms\u001b[39m.\u001b[39mToTensor()(image)  \u001b[39m# torch.Size([3, 567, 960])\u001b[39;00m\n",
      "File \u001b[0;32m~/USB/github/AprendeComputacion/Proyectos/Yolo-Pose/aipose/utils.py:207\u001b[0m, in \u001b[0;36mletterbox\u001b[0;34m(img, new_shape, color, auto, scale_fill, scaleup, stride)\u001b[0m\n\u001b[1;32m    197\u001b[0m \u001b[39mdef\u001b[39;00m \u001b[39mletterbox\u001b[39m(\n\u001b[1;32m    198\u001b[0m     img,\n\u001b[1;32m    199\u001b[0m     new_shape\u001b[39m=\u001b[39m(\u001b[39m640\u001b[39m, \u001b[39m640\u001b[39m),\n\u001b[0;32m   (...)\u001b[0m\n\u001b[1;32m    205\u001b[0m ):\n\u001b[1;32m    206\u001b[0m     \u001b[39m# Resize and pad image while meeting stride-multiple constraints\u001b[39;00m\n\u001b[0;32m--> 207\u001b[0m     shape \u001b[39m=\u001b[39m img\u001b[39m.\u001b[39;49mshape[:\u001b[39m2\u001b[39m]  \u001b[39m# current shape [height, width]\u001b[39;00m\n\u001b[1;32m    208\u001b[0m     \u001b[39mif\u001b[39;00m \u001b[39misinstance\u001b[39m(new_shape, \u001b[39mint\u001b[39m):\n\u001b[1;32m    209\u001b[0m         new_shape \u001b[39m=\u001b[39m (new_shape, new_shape)\n",
      "\u001b[0;31mAttributeError\u001b[0m: 'NoneType' object has no attribute 'shape'"
     ]
    }
   ],
   "source": [
    "model = YoloV7Pose()\n",
    "frame_plot = FramePlot(model)\n",
    "process_video('../video.mp4', frame_plot)"
   ]
  }
 ],
 "metadata": {
  "kernelspec": {
   "display_name": "Python 3.10.7 ('.venv': pipenv)",
   "language": "python",
   "name": "python3"
  },
  "language_info": {
   "codemirror_mode": {
    "name": "ipython",
    "version": 3
   },
   "file_extension": ".py",
   "mimetype": "text/x-python",
   "name": "python",
   "nbconvert_exporter": "python",
   "pygments_lexer": "ipython3",
   "version": "3.10.7"
  },
  "orig_nbformat": 4,
  "vscode": {
   "interpreter": {
    "hash": "9e906b8bce670891410964d9b40cd49b717f5bb944c17329acc0e9f63bf95cb2"
   }
  }
 },
 "nbformat": 4,
 "nbformat_minor": 2
}
